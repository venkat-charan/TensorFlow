{
  "nbformat": 4,
  "nbformat_minor": 0,
  "metadata": {
    "colab": {
      "name": "SML_P3.ipynb",
      "provenance": []
    },
    "kernelspec": {
      "name": "python3",
      "display_name": "Python 3"
    }
  },
  "cells": [
    {
      "cell_type": "markdown",
      "metadata": {
        "id": "0yuUZJxQBjTY",
        "colab_type": "text"
      },
      "source": [
        "Importing libraries"
      ]
    },
    {
      "cell_type": "code",
      "metadata": {
        "id": "GOcaxMnyc6HG",
        "colab_type": "code",
        "colab": {}
      },
      "source": [
        "import tensorflow as tf\n",
        "import numpy as np\n"
      ],
      "execution_count": 0,
      "outputs": []
    },
    {
      "cell_type": "markdown",
      "metadata": {
        "id": "fcdLFGmVBpY8",
        "colab_type": "text"
      },
      "source": [
        "Load training and testing data from tensorflow datasets"
      ]
    },
    {
      "cell_type": "code",
      "metadata": {
        "id": "tQvTFVWedCfF",
        "colab_type": "code",
        "outputId": "479728a2-dcc5-4737-ac71-e3c61bc73d3f",
        "colab": {
          "base_uri": "https://localhost:8080/",
          "height": 50
        }
      },
      "source": [
        "(train_images,train_labels),(test_images,test_labels)=tf.keras.datasets.mnist.load_data(path='mnist.npz')"
      ],
      "execution_count": 0,
      "outputs": [
        {
          "output_type": "stream",
          "text": [
            "Downloading data from https://storage.googleapis.com/tensorflow/tf-keras-datasets/mnist.npz\n",
            "11493376/11490434 [==============================] - 0s 0us/step\n"
          ],
          "name": "stdout"
        }
      ]
    },
    {
      "cell_type": "markdown",
      "metadata": {
        "id": "8B5at9h5BwPJ",
        "colab_type": "text"
      },
      "source": [
        "Reshaping data from (28,28) to (28,28,1) and normalising data"
      ]
    },
    {
      "cell_type": "code",
      "metadata": {
        "id": "evBUgYsxgILN",
        "colab_type": "code",
        "colab": {}
      },
      "source": [
        "train_images=train_images.reshape(60000, 28, 28, 1)\n",
        "train_images=train_images/255.0\n",
        "test_images=test_images.reshape(10000, 28, 28, 1)\n",
        "test_images=test_images/255.0"
      ],
      "execution_count": 0,
      "outputs": []
    },
    {
      "cell_type": "markdown",
      "metadata": {
        "id": "zNmuHiHqB8V_",
        "colab_type": "text"
      },
      "source": [
        "Creating model using keras"
      ]
    },
    {
      "cell_type": "code",
      "metadata": {
        "id": "PQR-aklbdr2-",
        "colab_type": "code",
        "colab": {}
      },
      "source": [
        "def mnist_train(dropout=0,kernel_size=(3,3),feature1=6,feature2=16):\n",
        "  model=tf.keras.Sequential([tf.keras.layers.Conv2D(feature1,kernel_size,activation=tf.nn.relu,input_shape=(28,28,1)),    #convolution layer \n",
        "                             tf.keras.layers.Dropout(dropout),                                                           #dropout layer\n",
        "                            tf.keras.layers.MaxPooling2D(),                                                               #Pooling layer\n",
        "                            tf.keras.layers.Conv2D(feature2,kernel_size,activation=tf.nn.relu),\n",
        "                             tf.keras.layers.Dropout(dropout),\n",
        "                            tf.keras.layers.MaxPooling2D(),\n",
        "                            tf.keras.layers.Flatten(),                                                                      #flattening weights\n",
        "                            tf.keras.layers.Dense(120,activation=tf.nn.relu),                            \n",
        "                            tf.keras.layers.Dense(84,activation=tf.nn.relu),\n",
        "                            tf.keras.layers.Dense(10,activation=tf.nn.softmax)])\n",
        "  model.compile(loss='sparse_categorical_crossentropy',optimizer='adam',metrics=['accuracy'])                               #Using Categorical crossentropy and adam\n",
        "  model.summary()\n",
        "\n",
        "  return model"
      ],
      "execution_count": 0,
      "outputs": []
    },
    {
      "cell_type": "code",
      "metadata": {
        "id": "8dWpzmXtl0DU",
        "colab_type": "code",
        "outputId": "03a7e4f7-97cb-4bef-9bdf-3cdce640c322",
        "colab": {
          "base_uri": "https://localhost:8080/",
          "height": 487
        }
      },
      "source": [
        "model=mnist_train(dropout=0.4,feature1=16,feature2=32)"
      ],
      "execution_count": 0,
      "outputs": [
        {
          "output_type": "stream",
          "text": [
            "Model: \"sequential_1\"\n",
            "_________________________________________________________________\n",
            "Layer (type)                 Output Shape              Param #   \n",
            "=================================================================\n",
            "conv2d_2 (Conv2D)            (None, 26, 26, 16)        160       \n",
            "_________________________________________________________________\n",
            "dropout_2 (Dropout)          (None, 26, 26, 16)        0         \n",
            "_________________________________________________________________\n",
            "max_pooling2d_2 (MaxPooling2 (None, 13, 13, 16)        0         \n",
            "_________________________________________________________________\n",
            "conv2d_3 (Conv2D)            (None, 11, 11, 32)        4640      \n",
            "_________________________________________________________________\n",
            "dropout_3 (Dropout)          (None, 11, 11, 32)        0         \n",
            "_________________________________________________________________\n",
            "max_pooling2d_3 (MaxPooling2 (None, 5, 5, 32)          0         \n",
            "_________________________________________________________________\n",
            "flatten_1 (Flatten)          (None, 800)               0         \n",
            "_________________________________________________________________\n",
            "dense_3 (Dense)              (None, 120)               96120     \n",
            "_________________________________________________________________\n",
            "dense_4 (Dense)              (None, 84)                10164     \n",
            "_________________________________________________________________\n",
            "dense_5 (Dense)              (None, 10)                850       \n",
            "=================================================================\n",
            "Total params: 111,934\n",
            "Trainable params: 111,934\n",
            "Non-trainable params: 0\n",
            "_________________________________________________________________\n"
          ],
          "name": "stdout"
        }
      ]
    },
    {
      "cell_type": "markdown",
      "metadata": {
        "id": "CXF690cLCnMo",
        "colab_type": "text"
      },
      "source": [
        "Training model "
      ]
    },
    {
      "cell_type": "code",
      "metadata": {
        "id": "GxPpU_xCd5Cp",
        "colab_type": "code",
        "outputId": "e4d19cab-d953-4bb4-f3dc-02c098483760",
        "colab": {
          "base_uri": "https://localhost:8080/",
          "height": 1000
        }
      },
      "source": [
        "history=model.fit(x=train_images,y=train_labels,epochs=40,verbose=1,batch_size=128,validation_data=(test_images,test_labels))"
      ],
      "execution_count": 0,
      "outputs": [
        {
          "output_type": "stream",
          "text": [
            "Epoch 1/40\n",
            "469/469 [==============================] - 33s 71ms/step - loss: 0.2752 - accuracy: 0.9170 - val_loss: 0.1553 - val_accuracy: 0.9778\n",
            "Epoch 2/40\n",
            "469/469 [==============================] - 33s 70ms/step - loss: 0.0863 - accuracy: 0.9732 - val_loss: 0.1052 - val_accuracy: 0.9837\n",
            "Epoch 3/40\n",
            "469/469 [==============================] - 33s 70ms/step - loss: 0.0631 - accuracy: 0.9803 - val_loss: 0.0833 - val_accuracy: 0.9874\n",
            "Epoch 4/40\n",
            "469/469 [==============================] - 33s 70ms/step - loss: 0.0508 - accuracy: 0.9843 - val_loss: 0.0678 - val_accuracy: 0.9894\n",
            "Epoch 5/40\n",
            "469/469 [==============================] - 33s 70ms/step - loss: 0.0433 - accuracy: 0.9861 - val_loss: 0.0633 - val_accuracy: 0.9886\n",
            "Epoch 6/40\n",
            "469/469 [==============================] - 33s 70ms/step - loss: 0.0392 - accuracy: 0.9878 - val_loss: 0.0569 - val_accuracy: 0.9899\n",
            "Epoch 7/40\n",
            "469/469 [==============================] - 33s 70ms/step - loss: 0.0337 - accuracy: 0.9894 - val_loss: 0.0522 - val_accuracy: 0.9889\n",
            "Epoch 8/40\n",
            "469/469 [==============================] - 33s 70ms/step - loss: 0.0319 - accuracy: 0.9896 - val_loss: 0.0531 - val_accuracy: 0.9889\n",
            "Epoch 9/40\n",
            "469/469 [==============================] - 33s 70ms/step - loss: 0.0295 - accuracy: 0.9902 - val_loss: 0.0439 - val_accuracy: 0.9918\n",
            "Epoch 10/40\n",
            "469/469 [==============================] - 33s 71ms/step - loss: 0.0278 - accuracy: 0.9909 - val_loss: 0.0393 - val_accuracy: 0.9918\n",
            "Epoch 11/40\n",
            "469/469 [==============================] - 33s 70ms/step - loss: 0.0245 - accuracy: 0.9917 - val_loss: 0.0402 - val_accuracy: 0.9923\n",
            "Epoch 12/40\n",
            "469/469 [==============================] - 33s 70ms/step - loss: 0.0237 - accuracy: 0.9918 - val_loss: 0.0343 - val_accuracy: 0.9909\n",
            "Epoch 13/40\n",
            "469/469 [==============================] - 33s 70ms/step - loss: 0.0212 - accuracy: 0.9935 - val_loss: 0.0355 - val_accuracy: 0.9913\n",
            "Epoch 14/40\n",
            "469/469 [==============================] - 33s 70ms/step - loss: 0.0217 - accuracy: 0.9928 - val_loss: 0.0336 - val_accuracy: 0.9923\n",
            "Epoch 15/40\n",
            "469/469 [==============================] - 33s 70ms/step - loss: 0.0191 - accuracy: 0.9938 - val_loss: 0.0329 - val_accuracy: 0.9914\n",
            "Epoch 16/40\n",
            "469/469 [==============================] - 33s 70ms/step - loss: 0.0180 - accuracy: 0.9938 - val_loss: 0.0304 - val_accuracy: 0.9918\n",
            "Epoch 17/40\n",
            "469/469 [==============================] - 33s 70ms/step - loss: 0.0159 - accuracy: 0.9951 - val_loss: 0.0303 - val_accuracy: 0.9909\n",
            "Epoch 18/40\n",
            "469/469 [==============================] - 33s 70ms/step - loss: 0.0177 - accuracy: 0.9940 - val_loss: 0.0265 - val_accuracy: 0.9924\n",
            "Epoch 19/40\n",
            "469/469 [==============================] - 33s 70ms/step - loss: 0.0167 - accuracy: 0.9942 - val_loss: 0.0299 - val_accuracy: 0.9912\n",
            "Epoch 20/40\n",
            "469/469 [==============================] - 32s 69ms/step - loss: 0.0154 - accuracy: 0.9945 - val_loss: 0.0313 - val_accuracy: 0.9903\n",
            "Epoch 21/40\n",
            "469/469 [==============================] - 32s 69ms/step - loss: 0.0148 - accuracy: 0.9949 - val_loss: 0.0285 - val_accuracy: 0.9922\n",
            "Epoch 22/40\n",
            "469/469 [==============================] - 33s 69ms/step - loss: 0.0144 - accuracy: 0.9949 - val_loss: 0.0274 - val_accuracy: 0.9920\n",
            "Epoch 23/40\n",
            "469/469 [==============================] - 33s 70ms/step - loss: 0.0130 - accuracy: 0.9956 - val_loss: 0.0258 - val_accuracy: 0.9916\n",
            "Epoch 24/40\n",
            "469/469 [==============================] - 33s 70ms/step - loss: 0.0135 - accuracy: 0.9956 - val_loss: 0.0312 - val_accuracy: 0.9905\n",
            "Epoch 25/40\n",
            "469/469 [==============================] - 33s 70ms/step - loss: 0.0120 - accuracy: 0.9959 - val_loss: 0.0228 - val_accuracy: 0.9929\n",
            "Epoch 26/40\n",
            "469/469 [==============================] - 33s 69ms/step - loss: 0.0107 - accuracy: 0.9965 - val_loss: 0.0250 - val_accuracy: 0.9927\n",
            "Epoch 27/40\n",
            "469/469 [==============================] - 33s 69ms/step - loss: 0.0115 - accuracy: 0.9965 - val_loss: 0.0302 - val_accuracy: 0.9910\n",
            "Epoch 28/40\n",
            "469/469 [==============================] - 33s 70ms/step - loss: 0.0129 - accuracy: 0.9954 - val_loss: 0.0311 - val_accuracy: 0.9910\n",
            "Epoch 29/40\n",
            "469/469 [==============================] - 33s 69ms/step - loss: 0.0125 - accuracy: 0.9958 - val_loss: 0.0307 - val_accuracy: 0.9903\n",
            "Epoch 30/40\n",
            "469/469 [==============================] - 33s 69ms/step - loss: 0.0106 - accuracy: 0.9963 - val_loss: 0.0257 - val_accuracy: 0.9917\n",
            "Epoch 31/40\n",
            "469/469 [==============================] - 33s 69ms/step - loss: 0.0115 - accuracy: 0.9962 - val_loss: 0.0242 - val_accuracy: 0.9922\n",
            "Epoch 32/40\n",
            "469/469 [==============================] - 32s 69ms/step - loss: 0.0089 - accuracy: 0.9970 - val_loss: 0.0223 - val_accuracy: 0.9925\n",
            "Epoch 33/40\n",
            "469/469 [==============================] - 33s 70ms/step - loss: 0.0107 - accuracy: 0.9962 - val_loss: 0.0235 - val_accuracy: 0.9925\n",
            "Epoch 34/40\n",
            "469/469 [==============================] - 32s 69ms/step - loss: 0.0096 - accuracy: 0.9967 - val_loss: 0.0287 - val_accuracy: 0.9910\n",
            "Epoch 35/40\n",
            "469/469 [==============================] - 32s 69ms/step - loss: 0.0085 - accuracy: 0.9972 - val_loss: 0.0256 - val_accuracy: 0.9921\n",
            "Epoch 36/40\n",
            "469/469 [==============================] - 33s 69ms/step - loss: 0.0108 - accuracy: 0.9966 - val_loss: 0.0269 - val_accuracy: 0.9913\n",
            "Epoch 37/40\n",
            "469/469 [==============================] - 32s 69ms/step - loss: 0.0105 - accuracy: 0.9963 - val_loss: 0.0275 - val_accuracy: 0.9916\n",
            "Epoch 38/40\n",
            "469/469 [==============================] - 32s 69ms/step - loss: 0.0100 - accuracy: 0.9964 - val_loss: 0.0283 - val_accuracy: 0.9915\n",
            "Epoch 39/40\n",
            "469/469 [==============================] - 32s 69ms/step - loss: 0.0090 - accuracy: 0.9967 - val_loss: 0.0294 - val_accuracy: 0.9919\n",
            "Epoch 40/40\n",
            "469/469 [==============================] - 32s 69ms/step - loss: 0.0100 - accuracy: 0.9966 - val_loss: 0.0254 - val_accuracy: 0.9915\n"
          ],
          "name": "stdout"
        }
      ]
    },
    {
      "cell_type": "code",
      "metadata": {
        "id": "tNh8OTYGiOeH",
        "colab_type": "code",
        "outputId": "576936b5-6699-475c-d7ab-a1ad584a081c",
        "colab": {
          "base_uri": "https://localhost:8080/",
          "height": 606
        }
      },
      "source": [
        "import matplotlib.image  as mpimg\n",
        "import matplotlib.pyplot as plt\n",
        "\n",
        "#-----------------------------------------------------------\n",
        "# Retrieve a list of list results on training and test data\n",
        "# sets for each training epoch\n",
        "#-----------------------------------------------------------\n",
        "acc=history.history['accuracy']\n",
        "val_acc=history.history['val_accuracy']\n",
        "loss=history.history['loss']\n",
        "val_loss=history.history['val_loss']\n",
        "\n",
        "epochs=range(len(acc)) # Get number of epochs\n",
        "\n",
        "#------------------------------------------------\n",
        "# Plot training and validation accuracy per epoch\n",
        "#------------------------------------------------\n",
        "plt.plot(epochs, acc, 'r')\n",
        "plt.plot(epochs, val_acc, 'b')\n",
        "plt.title('Training and validation accuracy')\n",
        "plt.xlabel(\"Epochs\")\n",
        "plt.ylabel(\"Accuracy\")\n",
        "plt.legend([\"Accuracy\", \"Validation Accuracy\"])\n",
        "\n",
        "plt.figure()\n",
        "\n",
        "#------------------------------------------------\n",
        "# Plot training and validation loss per epoch\n",
        "#------------------------------------------------\n",
        "plt.plot(epochs, loss, 'r')\n",
        "plt.plot(epochs, val_loss, 'b')\n",
        "plt.title('Training and validation loss')\n",
        "plt.xlabel(\"Epochs\")\n",
        "plt.ylabel(\"Loss\")\n",
        "plt.legend([\"Loss\", \"Validation Loss\"])\n",
        "\n",
        "plt.figure()\n"
      ],
      "execution_count": 0,
      "outputs": [
        {
          "output_type": "execute_result",
          "data": {
            "text/plain": [
              "<Figure size 432x288 with 0 Axes>"
            ]
          },
          "metadata": {
            "tags": []
          },
          "execution_count": 7
        },
        {
          "output_type": "display_data",
          "data": {
            "image/png": "[encoded data removed]",
            "text/plain": [
              "<Figure size 432x288 with 1 Axes>"
            ]
          },
          "metadata": {
            "tags": [],
            "needs_background": "light"
          }
        },
        {
          "output_type": "display_data",
          "data": {
            "image/png": "[encoded data removed]",
            "text/plain": [
              "<Figure size 432x288 with 1 Axes>"
            ]
          },
          "metadata": {
            "tags": [],
            "needs_background": "light"
          }
        },
        {
          "output_type": "display_data",
          "data": {
            "text/plain": [
              "<Figure size 432x288 with 0 Axes>"
            ]
          },
          "metadata": {
            "tags": []
          }
        }
      ]
    },
    {
      "cell_type": "code",
      "metadata": {
        "id": "F8J7UUYGFJ-j",
        "colab_type": "code",
        "colab": {}
      },
      "source": [
        ""
      ],
      "execution_count": 0,
      "outputs": []
    }
  ]
}