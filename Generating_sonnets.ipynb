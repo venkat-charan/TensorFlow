{
  "nbformat": 4,
  "nbformat_minor": 0,
  "metadata": {
    "accelerator": "GPU",
    "colab": {
      "name": "NLP_Week4_Exercise_Shakespeare_Answer.ipynb",
      "provenance": [],
      "toc_visible": true
    },
    "kernelspec": {
      "display_name": "Python 3",
      "name": "python3"
    }
  },
  "cells": [
    {
      "cell_type": "code",
      "metadata": {
        "id": "zX4Kg8DUTKWO",
        "colab_type": "code",
        "colab": {}
      },
      "source": [
        "#@title Licensed under the Apache License, Version 2.0 (the \"License\");\n",
        "# you may not use this file except in compliance with the License.\n",
        "# You may obtain a copy of the License at\n",
        "#\n",
        "# https://www.apache.org/licenses/LICENSE-2.0\n",
        "#\n",
        "# Unless required by applicable law or agreed to in writing, software\n",
        "# distributed under the License is distributed on an \"AS IS\" BASIS,\n",
        "# WITHOUT WARRANTIES OR CONDITIONS OF ANY KIND, either express or implied.\n",
        "# See the License for the specific language governing permissions and\n",
        "# limitations under the License."
      ],
      "execution_count": 0,
      "outputs": []
    },
    {
      "cell_type": "code",
      "metadata": {
        "colab_type": "code",
        "id": "BOwsuGQQY9OL",
        "colab": {}
      },
      "source": [
        "from tensorflow.keras.preprocessing.sequence import pad_sequences\n",
        "from tensorflow.keras.layers import Embedding, LSTM, Dense, Dropout, Bidirectional,GRU\n",
        "from tensorflow.keras.preprocessing.text import Tokenizer\n",
        "from tensorflow.keras.models import Sequential\n",
        "from tensorflow.keras.optimizers import Adam\n",
        "from tensorflow.keras import regularizers\n",
        "import tensorflow.keras.utils as ku \n",
        "import numpy as np "
      ],
      "execution_count": 0,
      "outputs": []
    },
    {
      "cell_type": "code",
      "metadata": {
        "colab_type": "code",
        "id": "PRnDnCW-Z7qv",
        "colab": {
          "base_uri": "https://localhost:8080/",
          "height": 202
        },
        "outputId": "c1b4f057-eed0-4725-828b-0075d2a8d984"
      },
      "source": [
        "tokenizer = Tokenizer()\n",
        "!wget --no-check-certificate \\\n",
        "    https://storage.googleapis.com/laurencemoroney-blog.appspot.com/sonnets.txt \\\n",
        "    -O /tmp/sonnets.txt\n",
        "data = open('/tmp/sonnets.txt').read()\n",
        "\n",
        "corpus = data.lower().split(\"\\n\")\n",
        "\n",
        "\n",
        "tokenizer.fit_on_texts(corpus)\n",
        "total_words = len(tokenizer.word_index) + 1\n",
        "\n",
        "# create input sequences using list of tokens\n",
        "input_sequences = []\n",
        "for line in corpus:\n",
        "\ttoken_list = tokenizer.texts_to_sequences([line])[0]\n",
        "\tfor i in range(1, len(token_list)):\n",
        "\t\tn_gram_sequence = token_list[:i+1]\n",
        "\t\tinput_sequences.append(n_gram_sequence)\n",
        "\n",
        "\n",
        "# pad sequences \n",
        "max_sequence_len = max([len(x) for x in input_sequences])\n",
        "input_sequences = np.array(pad_sequences(input_sequences, maxlen=max_sequence_len, padding='pre'))\n",
        "\n",
        "# create predictors and label\n",
        "predictors, label = input_sequences[:,:-1],input_sequences[:,-1]\n",
        "\n",
        "label = ku.to_categorical(label, num_classes=total_words)"
      ],
      "execution_count": 3,
      "outputs": [
        {
          "output_type": "stream",
          "text": [
            "--2020-04-22 22:00:05--  https://storage.googleapis.com/laurencemoroney-blog.appspot.com/sonnets.txt\n",
            "Resolving storage.googleapis.com (storage.googleapis.com)... 74.125.20.128, 2607:f8b0:400e:c09::80\n",
            "Connecting to storage.googleapis.com (storage.googleapis.com)|74.125.20.128|:443... connected.\n",
            "HTTP request sent, awaiting response... 200 OK\n",
            "Length: 93578 (91K) [text/plain]\n",
            "Saving to: ‘/tmp/sonnets.txt’\n",
            "\n",
            "\r/tmp/sonnets.txt      0%[                    ]       0  --.-KB/s               \r/tmp/sonnets.txt    100%[===================>]  91.38K  --.-KB/s    in 0.001s  \n",
            "\n",
            "2020-04-22 22:00:05 (105 MB/s) - ‘/tmp/sonnets.txt’ saved [93578/93578]\n",
            "\n"
          ],
          "name": "stdout"
        }
      ]
    },
    {
      "cell_type": "code",
      "metadata": {
        "colab_type": "code",
        "id": "w9vH8Y59ajYL",
        "colab": {
          "base_uri": "https://localhost:8080/",
          "height": 370
        },
        "outputId": "4872de85-68e9-4bf4-c476-4ac2a951b065"
      },
      "source": [
        "model = Sequential()\n",
        "model.add(Embedding(total_words, 100, input_length=max_sequence_len-1))\n",
        "model.add(Bidirectional(GRU(150, return_sequences = True)))\n",
        "model.add(Dropout(0.2))\n",
        "model.add(GRU(100))\n",
        "model.add(Dense(total_words/2, activation='relu', kernel_regularizer=regularizers.l2(0.01)))\n",
        "model.add(Dense(total_words, activation='softmax'))\n",
        "model.compile(loss='categorical_crossentropy', optimizer='adam', metrics=['accuracy'])\n",
        "print(model.summary())\n"
      ],
      "execution_count": 7,
      "outputs": [
        {
          "output_type": "stream",
          "text": [
            "Model: \"sequential_1\"\n",
            "_________________________________________________________________\n",
            "Layer (type)                 Output Shape              Param #   \n",
            "=================================================================\n",
            "embedding_1 (Embedding)      (None, 10, 100)           321100    \n",
            "_________________________________________________________________\n",
            "bidirectional_1 (Bidirection (None, 10, 300)           226800    \n",
            "_________________________________________________________________\n",
            "dropout_1 (Dropout)          (None, 10, 300)           0         \n",
            "_________________________________________________________________\n",
            "gru_1 (GRU)                  (None, 100)               120600    \n",
            "_________________________________________________________________\n",
            "dense_2 (Dense)              (None, 1605)              162105    \n",
            "_________________________________________________________________\n",
            "dense_3 (Dense)              (None, 3211)              5156866   \n",
            "=================================================================\n",
            "Total params: 5,987,471\n",
            "Trainable params: 5,987,471\n",
            "Non-trainable params: 0\n",
            "_________________________________________________________________\n",
            "None\n"
          ],
          "name": "stdout"
        }
      ]
    },
    {
      "cell_type": "code",
      "metadata": {
        "colab_type": "code",
        "id": "AIg2f1HBxqof",
        "colab": {
          "base_uri": "https://localhost:8080/",
          "height": 1000
        },
        "outputId": "a4ec14da-db76-4792-b22d-747374704b30"
      },
      "source": [
        " history = model.fit(predictors, label, epochs=100, verbose=1)"
      ],
      "execution_count": 8,
      "outputs": [
        {
          "output_type": "stream",
          "text": [
            "Epoch 1/100\n",
            "484/484 [==============================] - 5s 10ms/step - loss: 6.9086 - accuracy: 0.0217\n",
            "Epoch 2/100\n",
            "484/484 [==============================] - 5s 10ms/step - loss: 6.4760 - accuracy: 0.0244\n",
            "Epoch 3/100\n",
            "484/484 [==============================] - 5s 10ms/step - loss: 6.3036 - accuracy: 0.0326\n",
            "Epoch 4/100\n",
            "484/484 [==============================] - 5s 10ms/step - loss: 6.1528 - accuracy: 0.0367\n",
            "Epoch 5/100\n",
            "484/484 [==============================] - 5s 10ms/step - loss: 6.0017 - accuracy: 0.0449\n",
            "Epoch 6/100\n",
            "484/484 [==============================] - 5s 10ms/step - loss: 5.8634 - accuracy: 0.0519\n",
            "Epoch 7/100\n",
            "484/484 [==============================] - 5s 10ms/step - loss: 5.7126 - accuracy: 0.0594\n",
            "Epoch 8/100\n",
            "484/484 [==============================] - 5s 10ms/step - loss: 5.5698 - accuracy: 0.0666\n",
            "Epoch 9/100\n",
            "484/484 [==============================] - 5s 10ms/step - loss: 5.4214 - accuracy: 0.0783\n",
            "Epoch 10/100\n",
            "484/484 [==============================] - 5s 10ms/step - loss: 5.2716 - accuracy: 0.0878\n",
            "Epoch 11/100\n",
            "484/484 [==============================] - 5s 10ms/step - loss: 5.1135 - accuracy: 0.1007\n",
            "Epoch 12/100\n",
            "484/484 [==============================] - 5s 10ms/step - loss: 4.9634 - accuracy: 0.1130\n",
            "Epoch 13/100\n",
            "484/484 [==============================] - 5s 10ms/step - loss: 4.8053 - accuracy: 0.1268\n",
            "Epoch 14/100\n",
            "484/484 [==============================] - 5s 11ms/step - loss: 4.6560 - accuracy: 0.1420\n",
            "Epoch 15/100\n",
            "484/484 [==============================] - 5s 10ms/step - loss: 4.5060 - accuracy: 0.1596\n",
            "Epoch 16/100\n",
            "484/484 [==============================] - 5s 10ms/step - loss: 4.3613 - accuracy: 0.1720\n",
            "Epoch 17/100\n",
            "484/484 [==============================] - 5s 10ms/step - loss: 4.2113 - accuracy: 0.1918\n",
            "Epoch 18/100\n",
            "484/484 [==============================] - 5s 10ms/step - loss: 4.0665 - accuracy: 0.2094\n",
            "Epoch 19/100\n",
            "484/484 [==============================] - 5s 10ms/step - loss: 3.9282 - accuracy: 0.2282\n",
            "Epoch 20/100\n",
            "484/484 [==============================] - 5s 10ms/step - loss: 3.7909 - accuracy: 0.2483\n",
            "Epoch 21/100\n",
            "484/484 [==============================] - 5s 10ms/step - loss: 3.6547 - accuracy: 0.2719\n",
            "Epoch 22/100\n",
            "484/484 [==============================] - 5s 10ms/step - loss: 3.5330 - accuracy: 0.2942\n",
            "Epoch 23/100\n",
            "484/484 [==============================] - 5s 10ms/step - loss: 3.4040 - accuracy: 0.3203\n",
            "Epoch 24/100\n",
            "484/484 [==============================] - 5s 10ms/step - loss: 3.2905 - accuracy: 0.3414\n",
            "Epoch 25/100\n",
            "484/484 [==============================] - 5s 10ms/step - loss: 3.1697 - accuracy: 0.3694\n",
            "Epoch 26/100\n",
            "484/484 [==============================] - 5s 10ms/step - loss: 3.0608 - accuracy: 0.3917\n",
            "Epoch 27/100\n",
            "484/484 [==============================] - 5s 10ms/step - loss: 2.9604 - accuracy: 0.4189\n",
            "Epoch 28/100\n",
            "484/484 [==============================] - 5s 10ms/step - loss: 2.8692 - accuracy: 0.4373\n",
            "Epoch 29/100\n",
            "484/484 [==============================] - 5s 10ms/step - loss: 2.7786 - accuracy: 0.4567\n",
            "Epoch 30/100\n",
            "484/484 [==============================] - 5s 10ms/step - loss: 2.6906 - accuracy: 0.4757\n",
            "Epoch 31/100\n",
            "484/484 [==============================] - 5s 10ms/step - loss: 2.6158 - accuracy: 0.4931\n",
            "Epoch 32/100\n",
            "484/484 [==============================] - 5s 10ms/step - loss: 2.5358 - accuracy: 0.5101\n",
            "Epoch 33/100\n",
            "484/484 [==============================] - 5s 10ms/step - loss: 2.4612 - accuracy: 0.5270\n",
            "Epoch 34/100\n",
            "484/484 [==============================] - 5s 10ms/step - loss: 2.3838 - accuracy: 0.5449\n",
            "Epoch 35/100\n",
            "484/484 [==============================] - 5s 10ms/step - loss: 2.3303 - accuracy: 0.5581\n",
            "Epoch 36/100\n",
            "484/484 [==============================] - 5s 10ms/step - loss: 2.2726 - accuracy: 0.5691\n",
            "Epoch 37/100\n",
            "484/484 [==============================] - 5s 10ms/step - loss: 2.2179 - accuracy: 0.5781\n",
            "Epoch 38/100\n",
            "484/484 [==============================] - 5s 10ms/step - loss: 2.1513 - accuracy: 0.5933\n",
            "Epoch 39/100\n",
            "484/484 [==============================] - 5s 10ms/step - loss: 2.1019 - accuracy: 0.6062\n",
            "Epoch 40/100\n",
            "484/484 [==============================] - 5s 10ms/step - loss: 2.0516 - accuracy: 0.6134\n",
            "Epoch 41/100\n",
            "484/484 [==============================] - 5s 10ms/step - loss: 2.0005 - accuracy: 0.6278\n",
            "Epoch 42/100\n",
            "484/484 [==============================] - 5s 10ms/step - loss: 1.9551 - accuracy: 0.6328\n",
            "Epoch 43/100\n",
            "484/484 [==============================] - 5s 10ms/step - loss: 1.8986 - accuracy: 0.6516\n",
            "Epoch 44/100\n",
            "484/484 [==============================] - 5s 10ms/step - loss: 1.8672 - accuracy: 0.6584\n",
            "Epoch 45/100\n",
            "484/484 [==============================] - 5s 10ms/step - loss: 1.8432 - accuracy: 0.6582\n",
            "Epoch 46/100\n",
            "484/484 [==============================] - 5s 10ms/step - loss: 1.8052 - accuracy: 0.6697\n",
            "Epoch 47/100\n",
            "484/484 [==============================] - 5s 10ms/step - loss: 1.7541 - accuracy: 0.6777\n",
            "Epoch 48/100\n",
            "484/484 [==============================] - 5s 10ms/step - loss: 1.7208 - accuracy: 0.6851\n",
            "Epoch 49/100\n",
            "484/484 [==============================] - 5s 10ms/step - loss: 1.6981 - accuracy: 0.6884\n",
            "Epoch 50/100\n",
            "484/484 [==============================] - 5s 10ms/step - loss: 1.6807 - accuracy: 0.6932\n",
            "Epoch 51/100\n",
            "484/484 [==============================] - 5s 10ms/step - loss: 1.6434 - accuracy: 0.6976\n",
            "Epoch 52/100\n",
            "484/484 [==============================] - 5s 10ms/step - loss: 1.6200 - accuracy: 0.7047\n",
            "Epoch 53/100\n",
            "484/484 [==============================] - 5s 10ms/step - loss: 1.5657 - accuracy: 0.7184\n",
            "Epoch 54/100\n",
            "484/484 [==============================] - 5s 10ms/step - loss: 1.5451 - accuracy: 0.7222\n",
            "Epoch 55/100\n",
            "484/484 [==============================] - 5s 10ms/step - loss: 1.5152 - accuracy: 0.7302\n",
            "Epoch 56/100\n",
            "484/484 [==============================] - 5s 10ms/step - loss: 1.5131 - accuracy: 0.7277\n",
            "Epoch 57/100\n",
            "484/484 [==============================] - 5s 10ms/step - loss: 1.4832 - accuracy: 0.7350\n",
            "Epoch 58/100\n",
            "484/484 [==============================] - 5s 10ms/step - loss: 1.4788 - accuracy: 0.7352\n",
            "Epoch 59/100\n",
            "484/484 [==============================] - 5s 10ms/step - loss: 1.4502 - accuracy: 0.7415\n",
            "Epoch 60/100\n",
            "484/484 [==============================] - 5s 10ms/step - loss: 1.4370 - accuracy: 0.7418\n",
            "Epoch 61/100\n",
            "484/484 [==============================] - 5s 10ms/step - loss: 1.4170 - accuracy: 0.7460\n",
            "Epoch 62/100\n",
            "484/484 [==============================] - 5s 11ms/step - loss: 1.3858 - accuracy: 0.7494\n",
            "Epoch 63/100\n",
            "484/484 [==============================] - 5s 11ms/step - loss: 1.3798 - accuracy: 0.7548\n",
            "Epoch 64/100\n",
            "484/484 [==============================] - 5s 10ms/step - loss: 1.3611 - accuracy: 0.7566\n",
            "Epoch 65/100\n",
            "484/484 [==============================] - 5s 10ms/step - loss: 1.3380 - accuracy: 0.7638\n",
            "Epoch 66/100\n",
            "484/484 [==============================] - 5s 10ms/step - loss: 1.3117 - accuracy: 0.7670\n",
            "Epoch 67/100\n",
            "484/484 [==============================] - 5s 10ms/step - loss: 1.3065 - accuracy: 0.7645\n",
            "Epoch 68/100\n",
            "484/484 [==============================] - 5s 11ms/step - loss: 1.2951 - accuracy: 0.7679\n",
            "Epoch 69/100\n",
            "484/484 [==============================] - 5s 11ms/step - loss: 1.2741 - accuracy: 0.7744\n",
            "Epoch 70/100\n",
            "484/484 [==============================] - 5s 10ms/step - loss: 1.2779 - accuracy: 0.7683\n",
            "Epoch 71/100\n",
            "484/484 [==============================] - 5s 10ms/step - loss: 1.2694 - accuracy: 0.7705\n",
            "Epoch 72/100\n",
            "484/484 [==============================] - 5s 10ms/step - loss: 1.2591 - accuracy: 0.7739\n",
            "Epoch 73/100\n",
            "484/484 [==============================] - 5s 10ms/step - loss: 1.2419 - accuracy: 0.7791\n",
            "Epoch 74/100\n",
            "484/484 [==============================] - 5s 10ms/step - loss: 1.2182 - accuracy: 0.7807\n",
            "Epoch 75/100\n",
            "484/484 [==============================] - 5s 11ms/step - loss: 1.1973 - accuracy: 0.7855\n",
            "Epoch 76/100\n",
            "484/484 [==============================] - 5s 11ms/step - loss: 1.1987 - accuracy: 0.7868\n",
            "Epoch 77/100\n",
            "484/484 [==============================] - 5s 11ms/step - loss: 1.2014 - accuracy: 0.7853\n",
            "Epoch 78/100\n",
            "484/484 [==============================] - 5s 11ms/step - loss: 1.2049 - accuracy: 0.7804\n",
            "Epoch 79/100\n",
            "484/484 [==============================] - 5s 10ms/step - loss: 1.1899 - accuracy: 0.7854\n",
            "Epoch 80/100\n",
            "484/484 [==============================] - 5s 10ms/step - loss: 1.1656 - accuracy: 0.7916\n",
            "Epoch 81/100\n",
            "484/484 [==============================] - 5s 11ms/step - loss: 1.1627 - accuracy: 0.7883\n",
            "Epoch 82/100\n",
            "484/484 [==============================] - 5s 10ms/step - loss: 1.1581 - accuracy: 0.7912\n",
            "Epoch 83/100\n",
            "484/484 [==============================] - 5s 11ms/step - loss: 1.1191 - accuracy: 0.7996\n",
            "Epoch 84/100\n",
            "484/484 [==============================] - 5s 11ms/step - loss: 1.1215 - accuracy: 0.7972\n",
            "Epoch 85/100\n",
            "484/484 [==============================] - 5s 11ms/step - loss: 1.1307 - accuracy: 0.7960\n",
            "Epoch 86/100\n",
            "484/484 [==============================] - 5s 10ms/step - loss: 1.1329 - accuracy: 0.7945\n",
            "Epoch 87/100\n",
            "484/484 [==============================] - 5s 10ms/step - loss: 1.1259 - accuracy: 0.7916\n",
            "Epoch 88/100\n",
            "484/484 [==============================] - 5s 10ms/step - loss: 1.1225 - accuracy: 0.7963\n",
            "Epoch 89/100\n",
            "484/484 [==============================] - 5s 10ms/step - loss: 1.1180 - accuracy: 0.7938\n",
            "Epoch 90/100\n",
            "484/484 [==============================] - 5s 10ms/step - loss: 1.0914 - accuracy: 0.8016\n",
            "Epoch 91/100\n",
            "484/484 [==============================] - 5s 10ms/step - loss: 1.0744 - accuracy: 0.8010\n",
            "Epoch 92/100\n",
            "484/484 [==============================] - 5s 11ms/step - loss: 1.0766 - accuracy: 0.8042\n",
            "Epoch 93/100\n",
            "484/484 [==============================] - 5s 10ms/step - loss: 1.0764 - accuracy: 0.8009\n",
            "Epoch 94/100\n",
            "484/484 [==============================] - 5s 10ms/step - loss: 1.0777 - accuracy: 0.7997\n",
            "Epoch 95/100\n",
            "484/484 [==============================] - 5s 11ms/step - loss: 1.0722 - accuracy: 0.8001\n",
            "Epoch 96/100\n",
            "484/484 [==============================] - 5s 10ms/step - loss: 1.0656 - accuracy: 0.8051\n",
            "Epoch 97/100\n",
            "484/484 [==============================] - 5s 10ms/step - loss: 1.0806 - accuracy: 0.7974\n",
            "Epoch 98/100\n",
            "484/484 [==============================] - 5s 10ms/step - loss: 1.0558 - accuracy: 0.8009\n",
            "Epoch 99/100\n",
            "484/484 [==============================] - 5s 11ms/step - loss: 1.0432 - accuracy: 0.8082\n",
            "Epoch 100/100\n",
            "484/484 [==============================] - 5s 11ms/step - loss: 1.0424 - accuracy: 0.8079\n"
          ],
          "name": "stdout"
        }
      ]
    },
    {
      "cell_type": "code",
      "metadata": {
        "colab_type": "code",
        "id": "1fXTEO3GJ282",
        "colab": {
          "base_uri": "https://localhost:8080/",
          "height": 545
        },
        "outputId": "01434333-c794-4c06-cd1d-a5f228151e55"
      },
      "source": [
        "import matplotlib.pyplot as plt\n",
        "acc = history.history['accuracy']\n",
        "loss = history.history['loss']\n",
        "\n",
        "epochs = range(len(acc))\n",
        "\n",
        "plt.plot(epochs, acc, 'b', label='Training accuracy')\n",
        "plt.title('Training accuracy')\n",
        "\n",
        "plt.figure()\n",
        "\n",
        "plt.plot(epochs, loss, 'b', label='Training Loss')\n",
        "plt.title('Training loss')\n",
        "plt.legend()\n",
        "\n",
        "plt.show()"
      ],
      "execution_count": 9,
      "outputs": [
        {
          "output_type": "display_data",
          "data": {
            "image/png": "[encoded data removed]",
            "text/plain": [
              "<Figure size 432x288 with 1 Axes>"
            ]
          },
          "metadata": {
            "tags": [],
            "needs_background": "light"
          }
        },
        {
          "output_type": "display_data",
          "data": {
            "image/png": "[encoded data removed]",
            "text/plain": [
              "<Figure size 432x288 with 1 Axes>"
            ]
          },
          "metadata": {
            "tags": [],
            "needs_background": "light"
          }
        }
      ]
    },
    {
      "cell_type": "code",
      "metadata": {
        "colab_type": "code",
        "id": "6Vc6PHgxa6Hm",
        "colab": {
          "base_uri": "https://localhost:8080/",
          "height": 67
        },
        "outputId": "744a4829-abb5-4ae8-c49e-49fe660cc718"
      },
      "source": [
        "seed_text = \"bart is\"\n",
        "next_words = 10\n",
        "\n",
        "for i in range(next_words):\n",
        "\ttoken_list = tokenizer.texts_to_sequences([seed_text])[0]\n",
        "\ttoken_list = pad_sequences([token_list], maxlen=max_sequence_len-1, padding='pre')\n",
        "\tpredicted = model.predict_classes(token_list, verbose=0)\n",
        "\toutput_word = \"\"\n",
        "\tfor word, index in tokenizer.word_index.items():\n",
        "\t\tif index == predicted:\n",
        "\t\t\toutput_word = word\n",
        "\t\t\tbreak\n",
        "\tseed_text += \" \" + output_word\n",
        "\tif(i%5==0):\n",
        "\t\tseed_text+='\\n'\n",
        "print(seed_text)"
      ],
      "execution_count": 16,
      "outputs": [
        {
          "output_type": "stream",
          "text": [
            "bart is it\n",
            " thy spirit that thou send'st\n",
            " from thee for one\n"
          ],
          "name": "stdout"
        }
      ]
    },
    {
      "cell_type": "code",
      "metadata": {
        "id": "3uKVnC8T5-Pk",
        "colab_type": "code",
        "colab": {}
      },
      "source": [
        ""
      ],
      "execution_count": 0,
      "outputs": []
    }
  ]
}